{
  "nbformat": 4,
  "nbformat_minor": 0,
  "metadata": {
    "colab": {
      "provenance": []
    },
    "kernelspec": {
      "name": "python3",
      "display_name": "Python 3"
    },
    "language_info": {
      "name": "python"
    }
  },
  "cells": [
    {
      "cell_type": "code",
      "source": [
        "import logging"
      ],
      "metadata": {
        "id": "cw1koPtPgEio"
      },
      "execution_count": 10,
      "outputs": []
    },
    {
      "cell_type": "code",
      "source": [
        "from logging.handlers import RotatingFileHandler"
      ],
      "metadata": {
        "id": "oIPIDJK6W3Sd"
      },
      "execution_count": 11,
      "outputs": []
    },
    {
      "cell_type": "code",
      "source": [
        "class CustomizedLogger:\n",
        "    def __init__(self, log_file='demoapplication.log', file_size=5*1024, rotation_limit=10):\n",
        "        # Create the logger\n",
        "        self.logger = logging.getLogger(__name__)\n",
        "        self.logger.setLevel(logging.DEBUG)\n",
        "\n",
        "        # Create a rotating file handler\n",
        "        self.handler = logging.handlers.RotatingFileHandler(log_file, maxBytes=file_size,\n",
        "                                                            backupCount=rotation_limit )\n",
        "\n",
        "        # Create a formatter\n",
        "        self.formatter = logging.Formatter(\n",
        "            '%(asctime)s | %(levelname)s | %(filename)s | %(funcName)s | %(thread)d | %(message)s'\n",
        "        )\n",
        "\n",
        "        # Set the formatter to the handler\n",
        "        self.handler.setFormatter(self.formatter)\n",
        "\n",
        "        # Add the handler to the logger\n",
        "        self.logger.addHandler(self.handler)\n",
        "\n",
        "    def get_logger(self):\n",
        "        return self.logger\n",
        "\n"
      ],
      "metadata": {
        "id": "CbBRub1FXBlb"
      },
      "execution_count": 12,
      "outputs": []
    },
    {
      "cell_type": "code",
      "source": [
        "# Example usage of the CustomLogger\n",
        "logger_object = CustomizedLogger()\n",
        "logger = logger_object.get_logger()"
      ],
      "metadata": {
        "id": "TeO8P1V2fmUw"
      },
      "execution_count": 22,
      "outputs": []
    },
    {
      "cell_type": "code",
      "source": [
        "def application_function():\n",
        "    logger.debug('This is a debug message')\n",
        "    logger.info('This is an info message')\n",
        "    logger.error('This is an error message')"
      ],
      "metadata": {
        "id": "bWDD4GbVnie0"
      },
      "execution_count": 23,
      "outputs": []
    },
    {
      "cell_type": "code",
      "source": [
        "import threading"
      ],
      "metadata": {
        "id": "3C_k5-GomNR3"
      },
      "execution_count": 15,
      "outputs": []
    },
    {
      "cell_type": "code",
      "source": [
        "def thread_function(name):\n",
        "    logger.info(f'Thread {name}: starting')\n",
        "    application_function()\n",
        "    logger.info(f'Thread {name}: finishing')\n"
      ],
      "metadata": {
        "id": "IhJjSAkRpVuw"
      },
      "execution_count": 27,
      "outputs": []
    },
    {
      "cell_type": "code",
      "source": [
        "if __name__ == '__main__':\n",
        "  for index in range(5):\n",
        "    thread = threading.Thread(target=thread_function, args=(index,))\n",
        "    thread.start()\n",
        ""
      ],
      "metadata": {
        "colab": {
          "base_uri": "https://localhost:8080/"
        },
        "id": "JvpsrOuGhX2C",
        "outputId": "66f5687a-4170-4c0e-a250-a56bc51b6290"
      },
      "execution_count": 29,
      "outputs": [
        {
          "output_type": "stream",
          "name": "stderr",
          "text": [
            "INFO:__main__:Thread 0: starting\n",
            "INFO:__main__:Thread 1: starting\n",
            "DEBUG:__main__:This is a debug message\n",
            "INFO:__main__:Thread 2: starting\n",
            "INFO:__main__:Thread 3: starting\n",
            "DEBUG:__main__:This is a debug message\n",
            "INFO:__main__:This is an info message\n",
            "ERROR:__main__:This is an error message\n",
            "INFO:__main__:Thread 0: finishing\n",
            "DEBUG:__main__:This is a debug message\n",
            "INFO:__main__:This is an info message\n",
            "ERROR:__main__:This is an error message\n",
            "INFO:__main__:Thread 1: finishing\n"
          ]
        }
      ]
    },
    {
      "cell_type": "code",
      "source": [],
      "metadata": {
        "id": "TiXH63nDmlXG"
      },
      "execution_count": null,
      "outputs": []
    }
  ]
}